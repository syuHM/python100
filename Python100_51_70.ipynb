{
 "cells": [
  {
   "cell_type": "code",
   "execution_count": 1,
   "id": "abad59f3",
   "metadata": {},
   "outputs": [
    {
     "name": "stdout",
     "output_type": "stream",
     "text": [
      "5\n",
      "[5]\n"
     ]
    }
   ],
   "source": [
    "#Python 100제 51번\n",
    "#병합 정렬(merge sort)\n",
    "def 병합정렬(입력리스트):\n",
    "    입력리스트길이 = len(입력리스트)\n",
    "    if 입력리스트길이 <= 1: #리스트 길이가 0 또는 1이면 이미 정렬된 것으로 봄.\n",
    "        return 입력리스트\n",
    "    중간값 = 입력리스트길이 // 2\n",
    "    그룹_하나 = 병합정렬(입력리스트[:중간값]) #처음부터 중간값 앞까지의 값을 리스트로 가짐.\n",
    "    그룹_둘 = 병합정렬(입력리스트[중간값:]) #중간값부터 끝까지의 값을 리스트로 가짐.\n",
    "    결과값 = []\n",
    "\n",
    "    while 그룹_하나 and 그룹_둘 :\n",
    "        if 그룹_하나[0] < 그룹_둘[0]: #그룹_하나의 0번째 리스트 값보다 그룹_둘의 0번째 리스트값이 더 큰 경우\n",
    "            결과값.append(그룹_하나.pop(0)) #맞으면 그룹_하나의 0번째 값을 pop한 후 결과값 리스트에 append\n",
    "        else:\n",
    "            결과값.append(그룹_둘.pop(0)) #아니면 그룹_둘의 0번째 값을 pop한 후 결과값 리스트에 append\n",
    "\n",
    "    while 그룹_하나:\n",
    "        결과값.append(그룹_하나.pop(0))\n",
    "    while 그룹_둘:\n",
    "        결과값.append(그룹_둘.pop(0))\n",
    "    return 결과값\n",
    "\n",
    "주어진리스트 = input().split(',')\n",
    "주어진리스트 = [int(i) for i in 주어진리스트]\n",
    "\n",
    "print(병합정렬(주어진리스트))"
   ]
  },
  {
   "cell_type": "code",
   "execution_count": 2,
   "id": "e9552c04",
   "metadata": {},
   "outputs": [
    {
     "name": "stdout",
     "output_type": "stream",
     "text": [
      "5\n",
      "[5]\n"
     ]
    }
   ],
   "source": [
    "#Python 100제 52번\n",
    "#퀵정렬\n",
    "def 퀵정렬(입력리스트):\n",
    "    입력리스트의길이 = len(입력리스트)\n",
    "    if 입력리스트의길이 <= 1:\n",
    "        return 입력리스트\n",
    "    기준값 = 입력리스트.pop(입력리스트의길이//2)\n",
    "    그룹_하나 = []\n",
    "    그룹_둘 = []\n",
    "    \n",
    "    for i in range(입력리스트의길이-1):\n",
    "        if 입력리스트[i] < 기준값: #리스트 i값이 기준값보다 작을경우\n",
    "            그룹_하나.append(입력리스트[i]) #맞으면 그룹_하나에 append\n",
    "        else:\n",
    "            그룹_둘.append(입력리스트[i]) #아니면 그룹_둘에 append\n",
    "    return 그룹_하나 + [기준값] + 그룹_둘 \n",
    "\n",
    "주어진리스트 = input().split(',')\n",
    "주어진리스트 = [int(i) for i in 주어진리스트]\n",
    "\n",
    "print(퀵정렬(주어진리스트))"
   ]
  },
  {
   "cell_type": "code",
   "execution_count": 3,
   "id": "56446686",
   "metadata": {},
   "outputs": [
    {
     "name": "stdout",
     "output_type": "stream",
     "text": [
      "5\n",
      "YES\n"
     ]
    }
   ],
   "source": [
    "#Python 100제 53번\n",
    "#괄호문자열\n",
    "def 괄호문자열(입력):\n",
    "    괄호 = []\n",
    "    if 입력.count('(') != 입력.count(')'): #(와 )의 개수가 다르면 False 리턴\n",
    "        return False\n",
    "    for i in 입력: \n",
    "        if i == '(':\n",
    "            괄호.append('(') #만약 i가 (라면 괄호 리스트에 '(' append\n",
    "        elif i == ')':\n",
    "            if 괄호.count('(') == 0: #만약 i가 )인데 괄호 리스트에 '(' 개수가 0개라면 False 리턴\n",
    "                return False\n",
    "            괄호.pop()\n",
    "        return True\n",
    "\n",
    "입력 = input()\n",
    "if 괄호문자열(입력) == True:\n",
    "    print('YES')\n",
    "else:\n",
    "    print('NO')"
   ]
  },
  {
   "cell_type": "code",
   "execution_count": 4,
   "id": "25eec769",
   "metadata": {},
   "outputs": [
    {
     "name": "stdout",
     "output_type": "stream",
     "text": [
      "5\n",
      "YES\n"
     ]
    }
   ],
   "source": [
    "#Python 100제 54번\n",
    "#연속되는 수\n",
    "\n",
    "이벤트 = input().split(' ')\n",
    "이벤트 = [int(i) for i in 이벤트]\n",
    "\n",
    "def 스탬프(n):\n",
    "    n = sorted(n) #n 정렬\n",
    "    for i in range(len(n)-1): \n",
    "        if n[i]+1 != n[i+1]: #i의 값+1 과 i+1의 값이 다를 경우 NO 리턴\n",
    "            return 'NO'\n",
    "    return 'YES'\n",
    "\n",
    "print(스탬프(이벤트))"
   ]
  },
  {
   "cell_type": "code",
   "execution_count": 6,
   "id": "c0a22011",
   "metadata": {},
   "outputs": [
    {
     "name": "stdout",
     "output_type": "stream",
     "text": [
      "2\n",
      "[['A', 'C'], ['A', 'C'], ['B', 'C']]\n",
      "3\n"
     ]
    }
   ],
   "source": [
    "#Python 100제 55번\n",
    "#하노이의 탑\n",
    "\n",
    "원판의이동경로 = []\n",
    "def 하노이(원반의수, 시작기둥, 목표기둥, 보조기둥):\n",
    "    if 원반의수 == 1:\n",
    "        원판의이동경로.append([시작기둥, 목표기둥]) #원판이 1개일 경우 바로 목표기둥으로 옮김.  \n",
    "        return None\n",
    "\n",
    "    하노이(원반의수-1, 시작기둥, 목표기둥, 보조기둥) #가장 큰 원반을 제외한 모든 원반을 보조기둥으로 옮김.\n",
    "    원판의이동경로.append([시작기둥, 목표기둥]) #가장 큰 원반을 목표기둥으로 옮김.\n",
    "    하노이(원반의수-1, 보조기둥, 목표기둥, 시작기둥) #가장 큰 원반을 제외한 모든 원반이 보조기둥에 옮겨진 상태이기 때문에 보조기둥과 시작기둥을 바꿈.\n",
    "\n",
    "user_input = int(input())\n",
    "하노이(user_input,'A','C','B')\n",
    "\n",
    "print(원판의이동경로)\n",
    "print(len(원판의이동경로))"
   ]
  },
  {
   "cell_type": "code",
   "execution_count": 7,
   "id": "872b138f",
   "metadata": {},
   "outputs": [
    {
     "name": "stdout",
     "output_type": "stream",
     "text": [
      "England 22023\n"
     ]
    }
   ],
   "source": [
    "#Python 100제 56번\n",
    "#리스트의 함수 응용\n",
    "\n",
    "nationWidth = {'korea': 220877, 'Rusia': 17098242, 'China': 9596961, 'France': 543965, 'Japan': 377915, 'England' : 242900 }\n",
    "\n",
    "Kw = nationWidth['korea'] #Kw = 한국 면적\n",
    "nationWidth.pop('korea') #한국을 리스트에서 뺌.\n",
    "W = nationWidth.items() \n",
    "gap = abs(max(nationWidth.values()) - Kw) #gap = (나라중 가장 큰 면적 - 한국 면적)의 절댓값\n",
    "\n",
    "for i in W:\n",
    "    if gap > abs(Kw - i[1]):\n",
    "        gap = abs(Kw - i[1]) #gap이 (한국 면적 - 다른 나라 면적)의 절댓값보다 크다면 gap에 (한국 면적 - 다른 나라 면적)의 절댓값 저장\n",
    "print(i[0],gap) "
   ]
  },
  {
   "cell_type": "code",
   "execution_count": 8,
   "id": "1db49e0d",
   "metadata": {},
   "outputs": [
    {
     "name": "stdout",
     "output_type": "stream",
     "text": [
      "301\n"
     ]
    }
   ],
   "source": [
    "#Python 100제 57번\n",
    "#내장함수 응용하기\n",
    "\n",
    "def count(n):\n",
    "    count_one = str(list(range(n+1))).count('1') #n번째까지 리스트를 문자열로 변경한 후 '1'의 갯수를 세서 변수 count_one에 넣음.\n",
    "    return count_one\n",
    "\n",
    "print(count(1000))"
   ]
  },
  {
   "cell_type": "code",
   "execution_count": 9,
   "id": "98d4e4c1",
   "metadata": {},
   "outputs": [
    {
     "name": "stdout",
     "output_type": "stream",
     "text": [
      "15785\n",
      "15,785\n"
     ]
    }
   ],
   "source": [
    "#Python 100제 58번\n",
    "#콤마 찍기\n",
    "\n",
    "n = int(input())\n",
    "\n",
    "print(format(n,',')) #format(값,'형식규칙'), 형식규칙 ',' : 3자리마다 ,를 추가"
   ]
  },
  {
   "cell_type": "code",
   "execution_count": 10,
   "id": "15196b30",
   "metadata": {},
   "outputs": [
    {
     "name": "stdout",
     "output_type": "stream",
     "text": [
      "5\n",
      "========================5=========================\n"
     ]
    }
   ],
   "source": [
    "#Python 100제 59번\n",
    "#빈칸채우기\n",
    "\n",
    "Blank = input()\n",
    "print(\"{0:=^50}\".format(Blank)) #50자리의 공간을 확보하고 'Blank'를가운데 정렬해서 출력"
   ]
  },
  {
   "cell_type": "code",
   "execution_count": 11,
   "id": "341f5144",
   "metadata": {},
   "outputs": [
    {
     "name": "stdout",
     "output_type": "stream",
     "text": [
      "번호: 1, 이름: 강은지\n",
      "번호: 2, 이름: 김유정\n",
      "번호: 3, 이름: 박현서\n",
      "번호: 4, 이름: 최성훈\n",
      "번호: 5, 이름: 홍유진\n",
      "번호: 6, 이름: 박지호\n",
      "번호: 7, 이름: 권윤일\n",
      "번호: 8, 이름: 김채리\n",
      "번호: 9, 이름: 한지호\n",
      "번호: 10, 이름: 김진이\n",
      "번호: 11, 이름: 김민호\n",
      "번호: 12, 이름: 강채연\n"
     ]
    }
   ],
   "source": [
    "#Python 100제 60번\n",
    "#enumerate(열거)\n",
    "\n",
    "student = ['강은지','김유정','박현서','최성훈','홍유진','박지호','권윤일','김채리','한지호','김진이','김민호','강채연']\n",
    "for number, name in enumerate(student): #eunmerate : 순서가 있는 자료형을 입력받아 인덱스값을 포함하여 리턴\n",
    "    print('번호: {}, 이름: {}'.format(number+1, name)) "
   ]
  },
  {
   "cell_type": "code",
   "execution_count": 12,
   "id": "28e8ca4c",
   "metadata": {},
   "outputs": [
    {
     "name": "stdout",
     "output_type": "stream",
     "text": [
      "45\n",
      "4151\n"
     ]
    }
   ],
   "source": [
    "#Python 100제 61번\n",
    "#문자열 압축하기\n",
    "\n",
    "press = input()\n",
    "n = ''\n",
    "string = press[0]\n",
    "count = 0\n",
    "\n",
    "for i in press:\n",
    "    if i == string:\n",
    "        count += 1 #i랑 string이 같으면 count에 1 추가\n",
    "    else:\n",
    "        n += string + str(count) #아니면 n에 string과 count한 수를 문자열로 추가\n",
    "        string = i \n",
    "        count = 1\n",
    "n += string + str(count)\n",
    "print(n)"
   ]
  },
  {
   "cell_type": "code",
   "execution_count": 13,
   "id": "d6e754d0",
   "metadata": {},
   "outputs": [
    {
     "name": "stdout",
     "output_type": "stream",
     "text": [
      "20190923\n"
     ]
    }
   ],
   "source": [
    "#Python 100제 62번\n",
    "#20190923출력하기\n",
    "\n",
    "number = 'aacdddddddddfffffffffgghhh' #각 알파벳의 개수로 숫자 표현\n",
    "n = str(number.count('a'))\n",
    "n += str(number.count('b'))\n",
    "n += str(number.count('c'))\n",
    "n += str(number.count('d'))\n",
    "n += str(number.count('e'))\n",
    "n += str(number.count('f'))\n",
    "n += str(number.count('g'))\n",
    "n += str(number.count('h'))\n",
    "print(n)"
   ]
  },
  {
   "cell_type": "code",
   "execution_count": 14,
   "id": "5b3f8881",
   "metadata": {},
   "outputs": [
    {
     "name": "stdout",
     "output_type": "stream",
     "text": [
      "55\n",
      "5\n"
     ]
    }
   ],
   "source": [
    "#Python 100제 63번\n",
    "#친해지고 싶어\n",
    "\n",
    "talk = input().split(' ') #입력받는 것을 공백 기준으로 쪼개서 저장\n",
    "n = ''\n",
    "for i in talk:\n",
    "    n += i[0] #쪼개진 요소의 0번째 문자만 n에 추가\n",
    "print(n)"
   ]
  },
  {
   "cell_type": "code",
   "execution_count": 15,
   "id": "4f59af29",
   "metadata": {},
   "outputs": [
    {
     "name": "stdout",
     "output_type": "stream",
     "text": [
      "547\n",
      "-1\n"
     ]
    }
   ],
   "source": [
    "#Python 100제 64번\n",
    "#이상한 엘레베이터\n",
    "\n",
    "N = int(input())\n",
    "\n",
    "if N%7 == 0: #입력받은 정량이 7kg으로 나눴을 때 나머지가 0일 경우\n",
    "    print(int(N/7)) \n",
    "elif (N%7)%3 == 0: #입력받은 정량을 7로 나눈 나머지를 3으로 나눈 나머지가 0일 경우 (7kg짜리와 3kg짜리 두가지 모두 사용하는 경우)\n",
    "    print(int(N/7) + int((N%7)/3))\n",
    "elif N%3 == 0: #입력받은 정량이 3kg으로 나눴을 때 나머지가 0일 경우\n",
    "    print(int(N/3))\n",
    "else:\n",
    "    print(-1)"
   ]
  },
  {
   "cell_type": "code",
   "execution_count": 16,
   "id": "b22c50d9",
   "metadata": {},
   "outputs": [
    {
     "name": "stdout",
     "output_type": "stream",
     "text": [
      "525\n",
      "54\n",
      "[['54', '525']]\n"
     ]
    }
   ],
   "source": [
    "#Python 100제 65번\n",
    "#변형된 리스트\n",
    "\n",
    "a = input().split(' ')\n",
    "b = input().split(' ')\n",
    "c = []\n",
    "count = 0\n",
    "\n",
    "for i, j in zip(a, b): #zip : 동일한 개수로 이루어진 자료형을 묶어주는 함수\n",
    "    if count % 2 == 0: #a,b리스트가 번갈아가게 출력하기 위해 이 조건을 넣음.\n",
    "        c.append([j, i])\n",
    "    else:\n",
    "        c.append([i, j])\n",
    "    count += 1\n",
    "    \n",
    "print(c)"
   ]
  },
  {
   "cell_type": "code",
   "execution_count": 17,
   "id": "d30c75ed",
   "metadata": {},
   "outputs": [
    {
     "name": "stdout",
     "output_type": "stream",
     "text": [
      "['가능', '불가능', '가능', '가능']\n"
     ]
    }
   ],
   "source": [
    "#Python 100제 66번\n",
    "#블럭탑쌓기\n",
    "\n",
    "전체블록 = [\"ABCDEF\", \"BCAD\", \"ADEFQRX\", \"BEDFG\"]\n",
    "규칙 = \"ABD\"\n",
    "\n",
    "def solution(전체블록, 규칙):\n",
    "    answer = []\n",
    "    for 부분블록 in 전체블록:\n",
    "        answer.append(블록순서체크(부분블록, 규칙))\n",
    "    return answer\n",
    "\n",
    "def 블록순서체크(부분블록, 규칙):\n",
    "    임시변수 = 규칙.index(규칙[0]) #규칙 순서를 정해주기 위해 index 사용, 규칙 0번째 문자를 임시변수에 저장\n",
    "    for 문자 in 부분블록:\n",
    "        if 문자 in 규칙: #부분블록에 있는 문자가 규칙에도 있다면\n",
    "            if 임시변수 > 규칙.index(문자): #규칙에 있는 문자 인덱스보다 임시변수 인덱스가 클 경우 불가능 리턴\n",
    "                return '불가능'\n",
    "            임시변수 = 규칙.index(문자)\n",
    "    return '가능'\n",
    "\n",
    "print(solution(전체블록, 규칙))"
   ]
  },
  {
   "cell_type": "code",
   "execution_count": 18,
   "id": "4b140c71",
   "metadata": {},
   "outputs": [
    {
     "name": "stdout",
     "output_type": "stream",
     "text": [
      "55\n",
      "0 12\n"
     ]
    }
   ],
   "source": [
    "#Python 100제 67번\n",
    "#민규의 악수\n",
    "\n",
    "n = int(input()) #n : 행사에서 진행된 악수 횟수\n",
    "people = 0\n",
    "total = 0\n",
    "\n",
    "while(True):\n",
    "    total = (people*(people-1))/2 #민규를 포함한 원래대로였다면 진행되었을 악수 횟수\n",
    "    if n < total:\n",
    "        break\n",
    "    else:\n",
    "        people += 1\n",
    "print(int(people-(total-n)-1), people) #(total-n) : 민규가 하지 못한 악수 횟수"
   ]
  },
  {
   "cell_type": "code",
   "execution_count": 19,
   "id": "83bd4d19",
   "metadata": {},
   "outputs": [
    {
     "name": "stdout",
     "output_type": "stream",
     "text": [
      "['지나갔습니다.', '00시간40분', '01시간33분']\n"
     ]
    }
   ],
   "source": [
    "#Python 100제 68번\n",
    "#버스 시간표\n",
    "\n",
    "def bus_time(bus, now):\n",
    "    answer = []\n",
    "    now = now.split(':')\n",
    "    now = ((int(now[0])*60) + int(now[1])) #현재 시간을 분 단위로 수정\n",
    "    for i in range(len(bus)):\n",
    "        time = bus[i].split(':')\n",
    "        hour = ((int(time[0])*60) + int(time[1])) #버스 시간대를 분 단위로 수정\n",
    "        if hour < now:\n",
    "            answer.append(\"지나갔습니다.\") #버스 시간보다 현재 시간이 클 경우 지나갔습니다 출력\n",
    "        else:\n",
    "            a = hour - now\n",
    "            시간 = a//60\n",
    "            분 = a%60\n",
    "            answer.append(str(시간).zfill(2)+'시간'+str(분).zfill(2)+'분') #zfill()함수:빈 공간에 0 출력, else일 경우 (버스시간 - 현재시간) 출력\n",
    "    return answer\n",
    "\n",
    "print(bus_time([\"12:30\", \"13:20\", \"14:13\"], \"12:40\"))"
   ]
  },
  {
   "cell_type": "code",
   "execution_count": 20,
   "id": "7dc6c590",
   "metadata": {},
   "outputs": [
    {
     "name": "stdout",
     "output_type": "stream",
     "text": [
      "5\n",
      "[2, 3, 3, 2]\n"
     ]
    }
   ],
   "source": [
    "#Python 100제 69번\n",
    "#골드바흐의 추측\n",
    "\n",
    "def primes_():\n",
    "    n=1000\n",
    "    primes = []\n",
    "    array = [True for i in range(n+1)] #모든 수가 소수(True)인 것으로 초기화\n",
    "\n",
    "    for i in range(2, int(n**(1/2) + 1)): #2부터 n의 제곱근까지 반복\n",
    "        if array[i] == True: #i가 소수인 경우\n",
    "            j = 2 #곱하는 수 (i를 제외한 i의 모든 배수 지우는 과정)\n",
    "            while i * j <= n:\n",
    "                array[i * j] = False #소수가 아니다.\n",
    "                j += 1\n",
    "            \n",
    "    for i in range(2, n+1):\n",
    "        if array[i]:\n",
    "            primes.append(i) #2부터 n까지의 소수를 primes 리스트에 저장\n",
    "    return primes\n",
    "\n",
    "a = primes_()\n",
    "\n",
    "n = int(input())\n",
    "l = []\n",
    "k = []\n",
    "\n",
    "for i in range(2, n+1):\n",
    "    if i in a and n-i in a:\n",
    "        l.append(i)\n",
    "        l.append(n-i)\n",
    "print(l)"
   ]
  },
  {
   "cell_type": "code",
   "execution_count": 24,
   "id": "32c1533b",
   "metadata": {},
   "outputs": [],
   "source": [
    "#Python 100제 70번\n",
    "#행렬 곱하기\n",
    "\n",
    "def Matrix(a, b):\n",
    "    result = []\n",
    "    if len(a) == len(b[0]): #a배열의 길이와 배열b의 첫번째 배열 길이가 같아야 행렬의 곱을 할 수 있음.\n",
    "        result[0][0] = a[0][0]*b[0][0] + a[0][1]*b[1][0];\n",
    "        result[0][1] = a[0][0]*b[0][1] + a[0][1]*b[1][1];\n",
    "        result[1][0] = a[1][0]*b[0][0] + a[1][1]*b[1][0];\n",
    "        result[1][1] = a[1][0]*b[0][1] + a[1][1]*b[1][1];\n",
    "        return result\n",
    "    else:\n",
    "        return -1 #다르면 곱할 수 없는 행렬임."
   ]
  },
  {
   "cell_type": "code",
   "execution_count": null,
   "id": "3049c6e1",
   "metadata": {},
   "outputs": [],
   "source": []
  },
  {
   "cell_type": "code",
   "execution_count": null,
   "id": "874f1258",
   "metadata": {},
   "outputs": [],
   "source": []
  },
  {
   "cell_type": "code",
   "execution_count": null,
   "id": "95a62ee1",
   "metadata": {},
   "outputs": [],
   "source": []
  },
  {
   "cell_type": "code",
   "execution_count": null,
   "id": "478b349c",
   "metadata": {},
   "outputs": [],
   "source": []
  },
  {
   "cell_type": "code",
   "execution_count": null,
   "id": "daef4df6",
   "metadata": {},
   "outputs": [],
   "source": []
  },
  {
   "cell_type": "code",
   "execution_count": null,
   "id": "ccb5011d",
   "metadata": {},
   "outputs": [],
   "source": []
  },
  {
   "cell_type": "code",
   "execution_count": null,
   "id": "d1944771",
   "metadata": {},
   "outputs": [],
   "source": []
  },
  {
   "cell_type": "code",
   "execution_count": null,
   "id": "1c335a88",
   "metadata": {},
   "outputs": [],
   "source": []
  },
  {
   "cell_type": "code",
   "execution_count": null,
   "id": "496c1125",
   "metadata": {},
   "outputs": [],
   "source": []
  },
  {
   "cell_type": "code",
   "execution_count": null,
   "id": "c13603fe",
   "metadata": {},
   "outputs": [],
   "source": []
  },
  {
   "cell_type": "code",
   "execution_count": null,
   "id": "e6b23127",
   "metadata": {},
   "outputs": [],
   "source": []
  }
 ],
 "metadata": {
  "kernelspec": {
   "display_name": "Python 3",
   "language": "python",
   "name": "python3"
  },
  "language_info": {
   "codemirror_mode": {
    "name": "ipython",
    "version": 3
   },
   "file_extension": ".py",
   "mimetype": "text/x-python",
   "name": "python",
   "nbconvert_exporter": "python",
   "pygments_lexer": "ipython3",
   "version": "3.8.8"
  }
 },
 "nbformat": 4,
 "nbformat_minor": 5
}
