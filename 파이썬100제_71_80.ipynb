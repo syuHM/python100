{
 "cells": [
  {
   "cell_type": "code",
   "execution_count": 1,
   "id": "dbe257e7",
   "metadata": {},
   "outputs": [
    {
     "name": "stdout",
     "output_type": "stream",
     "text": [
      "['E', 'A', 'B', 'C', 'D', 'F']\n"
     ]
    }
   ],
   "source": [
    "#Python 100제 71번\n",
    "#깊이 우선 탐색(DFS) - 탐색트리 상에서 해가 존재할 가능성이 있으면 앞으로 계속 전진해서 탐색\n",
    "graph = {\n",
    "        'A': set(['B', 'C', 'E']),\n",
    "        'B': set(['A']),\n",
    "        'C': set(['A']),\n",
    "        'D': set(['E', 'F']),\n",
    "        'E': set(['A', 'D']),\n",
    "        'F': set(['D'])\n",
    "}\n",
    "\n",
    "def dfs(graph, start): #스택 맨 위의 노드를 pop하고 그 노드의 자식을 스택에 넣어서 탐색하는 함수\n",
    "    visited = [] #이미 탐색한 노드를 넣는 리스트\n",
    "    stack = [start] #start 노드를 스택에 저장\n",
    "\n",
    "    while stack: #스택이 비어있지 않은 경우\n",
    "        n = stack.pop() #스택에서 맨 위의 노드 n를 pop\n",
    "        if n not in visited: #만약 n을 아직 탐색하지 않았다면\n",
    "            visited.append(n) #visited 리스트에 n 추가\n",
    "            stack += graph[n] - set(visited) #스택에 graph[n] 추가(이미 추가했던 노드는 빼기)\n",
    "    return visited\n",
    "\n",
    "print(dfs(graph, 'E')) #E부터 시작하는 깊이 우선 탐색"
   ]
  },
  {
   "cell_type": "code",
   "execution_count": 4,
   "id": "e58fc729",
   "metadata": {},
   "outputs": [
    {
     "name": "stdout",
     "output_type": "stream",
     "text": [
      "['E', 'D', 'A', 'F', 'C', 'B']\n"
     ]
    }
   ],
   "source": [
    "#Python 100제 72번\n",
    "#너비 우선 탐색(BFS) - 루트 노드의 자식 노드를 모두 탐색한 후 해가 발견되지 않으면 하나 내려가서 동일한 방법으로 탐색\n",
    "graph = {'E': set(['D', 'A']),\n",
    "         'F': set(['D']),\n",
    "         'A': set(['E', 'C', 'B']),\n",
    "         'B': set(['A']),\n",
    "         'C': set(['A']),\n",
    "         'D': set(['E','F'])}\n",
    "\n",
    "def bfs(graph, start):\n",
    "    visited = []\n",
    "    queue = [start]\n",
    "\n",
    "    while queue:\n",
    "        n = queue.pop(0) #queue에서 맨 앞의 노드 n를 pop\n",
    "        if n not in visited:\n",
    "            visited.append(n)\n",
    "            queue += graph[n] - set(visited) #큐에 graph[n] 추가(이미 추가했던 노드는 빼기)\n",
    "    return visited\n",
    "\n",
    "print(bfs(graph, 'E')) #E부터 시작하는 너비 우선 탐색"
   ]
  },
  {
   "cell_type": "code",
   "execution_count": 5,
   "id": "68e256be",
   "metadata": {},
   "outputs": [
    {
     "name": "stdout",
     "output_type": "stream",
     "text": [
      "A F\n",
      "2\n"
     ]
    }
   ],
   "source": [
    "#Python 100제 73번\n",
    "#최단 경로 찾기\n",
    "graph = {'A': set(['B', 'C']),\n",
    "         'B': set(['A', 'D', 'E']),\n",
    "         'C': set(['A', 'F']),\n",
    "         'D': set(['B']),\n",
    "         'E': set(['B', 'F']),\n",
    "         'F': set(['C', 'E'])}\n",
    "start, end = input().split()\n",
    "\n",
    "queue = [start]\n",
    "visited = [start]\n",
    "\n",
    "def solution():\n",
    "    count = -1\n",
    "\n",
    "    while len(queue)!=0:\n",
    "        count += 1\n",
    "        size = len(queue)\n",
    "\n",
    "        for i in range(size):\n",
    "            node = queue.pop(0)\n",
    "            if node == end:\n",
    "                return count\n",
    "\n",
    "            for next_node in graph[node]:\n",
    "                if next_node not in visited:\n",
    "                    visited.append(next_node)\n",
    "                    queue.append(next_node)\n",
    "\n",
    "print(solution())"
   ]
  },
  {
   "cell_type": "code",
   "execution_count": 43,
   "id": "b1a8fbe7",
   "metadata": {},
   "outputs": [
    {
     "name": "stdout",
     "output_type": "stream",
     "text": [
      "1 5\n",
      "6\n"
     ]
    }
   ],
   "source": [
    "#Python 100제 74번\n",
    "#최장 경로 찾기\n",
    "graph = {1: [2, 3, 4],\n",
    "         2: [1, 3, 4, 5, 6],\n",
    "         3: [1, 2, 7],\n",
    "         4: [1, 2, 5, 6],\n",
    "         5: [2, 4, 6, 7],\n",
    "         6: [2, 4, 5, 7],\n",
    "         7: [3, 5, 6]} \n",
    "\n",
    "start, end = [int(i) for i in input().split()]\n",
    "queue = [start]\n",
    "visited = []\n",
    "\n",
    "def sol(n, visited):\n",
    "    if n[-1] == end:\n",
    "        return len(visited)\n",
    "\n",
    "    if n[-1] in visited:\n",
    "        return len(visited)\n",
    "\n",
    "    visited.append(n[-1])\n",
    "    length = 0\n",
    "\n",
    "    for next_node in graph[n[-1]]:\n",
    "        n.append(next_node)\n",
    "        length = max(length, sol(n, visited))\n",
    "        queue.pop(-1)\n",
    "    return length\n",
    "\n",
    "print(sol(queue, visited))"
   ]
  },
  {
   "cell_type": "code",
   "execution_count": 12,
   "id": "8805baf6",
   "metadata": {},
   "outputs": [
    {
     "name": "stdout",
     "output_type": "stream",
     "text": [
      "10\n"
     ]
    }
   ],
   "source": [
    "#Python 100제 75번\n",
    "#이상한 369\n",
    "def game369(n):\n",
    "    def count369(n):\n",
    "        for i in str(n): #입력받은 숫자를 문자열로 분리\n",
    "            if int(i) != 3 and int(i) != 6 and int(i) != 9: #문자가 3,6,9중에 해당되지 않으면 return 0\n",
    "                return 0\n",
    "            if int(i) % 3 != 0: #문자를 3으로 나눈 나머지가 0이 아니면 return 0\n",
    "                return 0\n",
    "        return 1\n",
    "    count = 0\n",
    "    for j in range(1, n+1):\n",
    "        count += count369(j)\n",
    "    return count\n",
    "\n",
    "print(game369(93))"
   ]
  },
  {
   "cell_type": "code",
   "execution_count": 41,
   "id": "9ed0730b",
   "metadata": {},
   "outputs": [
    {
     "ename": "TypeError",
     "evalue": "list indices must be integers or slices, not tuple",
     "output_type": "error",
     "traceback": [
      "\u001b[1;31m---------------------------------------------------------------------------\u001b[0m",
      "\u001b[1;31mTypeError\u001b[0m                                 Traceback (most recent call last)",
      "\u001b[1;32m<ipython-input-41-f9fd51dd67ae>\u001b[0m in \u001b[0;36m<module>\u001b[1;34m\u001b[0m\n\u001b[0;32m     12\u001b[0m \u001b[1;32mfor\u001b[0m \u001b[0mi\u001b[0m \u001b[1;32min\u001b[0m \u001b[0mrange\u001b[0m\u001b[1;33m(\u001b[0m\u001b[0marea\u001b[0m \u001b[1;33m-\u001b[0m \u001b[0mscale\u001b[0m \u001b[1;33m+\u001b[0m \u001b[1;36m1\u001b[0m\u001b[1;33m)\u001b[0m\u001b[1;33m:\u001b[0m\u001b[1;33m\u001b[0m\u001b[1;33m\u001b[0m\u001b[0m\n\u001b[0;32m     13\u001b[0m     \u001b[1;32mfor\u001b[0m \u001b[0mj\u001b[0m \u001b[1;32min\u001b[0m \u001b[0mrange\u001b[0m\u001b[1;33m(\u001b[0m\u001b[0mscale\u001b[0m\u001b[1;33m)\u001b[0m\u001b[1;33m:\u001b[0m\u001b[1;33m\u001b[0m\u001b[1;33m\u001b[0m\u001b[0m\n\u001b[1;32m---> 14\u001b[1;33m         \u001b[1;32mif\u001b[0m \u001b[0mnp\u001b[0m\u001b[1;33m.\u001b[0m\u001b[0msum\u001b[0m\u001b[1;33m(\u001b[0m\u001b[0mbomb\u001b[0m\u001b[1;33m[\u001b[0m\u001b[0mi\u001b[0m\u001b[1;33m:\u001b[0m\u001b[0mscale\u001b[0m\u001b[1;33m+\u001b[0m\u001b[0mi\u001b[0m\u001b[1;33m,\u001b[0m \u001b[0mj\u001b[0m\u001b[1;33m:\u001b[0m\u001b[0mscale\u001b[0m\u001b[1;33m+\u001b[0m\u001b[0mj\u001b[0m\u001b[1;33m]\u001b[0m\u001b[1;33m)\u001b[0m \u001b[1;33m>\u001b[0m \u001b[0ms\u001b[0m\u001b[1;33m:\u001b[0m\u001b[1;33m\u001b[0m\u001b[1;33m\u001b[0m\u001b[0m\n\u001b[0m\u001b[0;32m     15\u001b[0m             \u001b[0ms\u001b[0m \u001b[1;33m=\u001b[0m \u001b[0mnp\u001b[0m\u001b[1;33m.\u001b[0m\u001b[0msum\u001b[0m\u001b[1;33m(\u001b[0m\u001b[0mbomb\u001b[0m\u001b[1;33m[\u001b[0m\u001b[0mi\u001b[0m\u001b[1;33m:\u001b[0m\u001b[0mscale\u001b[0m\u001b[1;33m+\u001b[0m\u001b[0mi\u001b[0m\u001b[1;33m,\u001b[0m \u001b[0mj\u001b[0m\u001b[1;33m:\u001b[0m\u001b[0mscale\u001b[0m\u001b[1;33m+\u001b[0m\u001b[0mj\u001b[0m\u001b[1;33m]\u001b[0m\u001b[1;33m)\u001b[0m\u001b[1;33m\u001b[0m\u001b[1;33m\u001b[0m\u001b[0m\n\u001b[0;32m     16\u001b[0m \u001b[0mprint\u001b[0m\u001b[1;33m(\u001b[0m\u001b[0ms\u001b[0m\u001b[1;33m)\u001b[0m\u001b[1;33m\u001b[0m\u001b[1;33m\u001b[0m\u001b[0m\n",
      "\u001b[1;31mTypeError\u001b[0m: list indices must be integers or slices, not tuple"
     ]
    }
   ],
   "source": [
    "#Python 100제 76번 - 몰라\n",
    "#안전한 땅\n",
    "import numpy as np\n",
    "area = 5\n",
    "scale = 3\n",
    "bomb = [[1, 0, 0, 1, 0],\n",
    "        [0, 1, 0, 0, 1],\n",
    "        [0, 0, 0, 1, 0],\n",
    "        [0, 0, 0, 0, 0],\n",
    "        [0, 0, 1, 0, 0]]\n",
    "s = 0\n",
    "for i in range(area - scale + 1):\n",
    "    for j in range(scale):\n",
    "        if np.sum(bomb[i:scale+i, j:scale+j]) > s: \n",
    "            s = np.sum(bomb[i:scale+i, j:scale+j])\n",
    "print(s)"
   ]
  },
  {
   "cell_type": "code",
   "execution_count": 22,
   "id": "3ef341eb",
   "metadata": {},
   "outputs": [
    {
     "name": "stdout",
     "output_type": "stream",
     "text": [
      "abcdefg\n",
      "bdef\n",
      "3\n",
      "def\n"
     ]
    }
   ],
   "source": [
    "#Python 100제 77번\n",
    "#가장 긴 공통 부분 문자열\n",
    "def count_str():\n",
    "    A = input()\n",
    "    B = input()\n",
    "    list_str = ''\n",
    "    for i in range(0, len(A)):\n",
    "        if A[i] in B: #B에 A의 문자가 있는지\n",
    "            j = i+1\n",
    "            k = j+1\n",
    "            if A[j] in B:\n",
    "                list_str += A[i]\n",
    "                if A[k] not in B:\n",
    "                    list_str += A[j]\n",
    "                    break\n",
    "                \n",
    "    print(len(list_str))\n",
    "    print(list_str)\n",
    "count_str()"
   ]
  },
  {
   "cell_type": "code",
   "execution_count": 45,
   "id": "97d3d704",
   "metadata": {},
   "outputs": [
    {
     "name": "stdout",
     "output_type": "stream",
     "text": [
      "6\n",
      "3\n"
     ]
    },
    {
     "ename": "IndexError",
     "evalue": "pop index out of range",
     "output_type": "error",
     "traceback": [
      "\u001b[1;31m---------------------------------------------------------------------------\u001b[0m",
      "\u001b[1;31mIndexError\u001b[0m                                Traceback (most recent call last)",
      "\u001b[1;32m<ipython-input-45-4cdc356b6531>\u001b[0m in \u001b[0;36m<module>\u001b[1;34m\u001b[0m\n\u001b[0;32m     11\u001b[0m         \u001b[0mlist_n\u001b[0m\u001b[1;33m.\u001b[0m\u001b[0mpop\u001b[0m\u001b[1;33m(\u001b[0m\u001b[0mk\u001b[0m\u001b[1;33m)\u001b[0m \u001b[1;31m#음식 리스트에서 k번째 pop\u001b[0m\u001b[1;33m\u001b[0m\u001b[1;33m\u001b[0m\u001b[0m\n\u001b[0;32m     12\u001b[0m     \u001b[0mprint\u001b[0m\u001b[1;33m(\u001b[0m\u001b[0mlist_n\u001b[0m\u001b[1;33m)\u001b[0m\u001b[1;33m\u001b[0m\u001b[1;33m\u001b[0m\u001b[0m\n\u001b[1;32m---> 13\u001b[1;33m \u001b[0mtable\u001b[0m\u001b[1;33m(\u001b[0m\u001b[0ma\u001b[0m\u001b[1;33m,\u001b[0m \u001b[0mb\u001b[0m\u001b[1;33m)\u001b[0m\u001b[1;33m\u001b[0m\u001b[1;33m\u001b[0m\u001b[0m\n\u001b[0m",
      "\u001b[1;32m<ipython-input-45-4cdc356b6531>\u001b[0m in \u001b[0;36mtable\u001b[1;34m(n, k)\u001b[0m\n\u001b[0;32m      9\u001b[0m         \u001b[1;32mif\u001b[0m \u001b[0mk\u001b[0m \u001b[1;33m>\u001b[0m \u001b[0mlen\u001b[0m\u001b[1;33m(\u001b[0m\u001b[0mlist_n\u001b[0m\u001b[1;33m)\u001b[0m\u001b[1;33m:\u001b[0m \u001b[1;31m#k번째가 음식 갯수보다 클 경우\u001b[0m\u001b[1;33m\u001b[0m\u001b[1;33m\u001b[0m\u001b[0m\n\u001b[0;32m     10\u001b[0m             \u001b[0mk\u001b[0m \u001b[1;33m=\u001b[0m \u001b[0mk\u001b[0m\u001b[1;33m-\u001b[0m\u001b[0mlen\u001b[0m\u001b[1;33m(\u001b[0m\u001b[0mlist_n\u001b[0m\u001b[1;33m)\u001b[0m\u001b[1;33m\u001b[0m\u001b[1;33m\u001b[0m\u001b[0m\n\u001b[1;32m---> 11\u001b[1;33m         \u001b[0mlist_n\u001b[0m\u001b[1;33m.\u001b[0m\u001b[0mpop\u001b[0m\u001b[1;33m(\u001b[0m\u001b[0mk\u001b[0m\u001b[1;33m)\u001b[0m \u001b[1;31m#음식 리스트에서 k번째 pop\u001b[0m\u001b[1;33m\u001b[0m\u001b[1;33m\u001b[0m\u001b[0m\n\u001b[0m\u001b[0;32m     12\u001b[0m     \u001b[0mprint\u001b[0m\u001b[1;33m(\u001b[0m\u001b[0mlist_n\u001b[0m\u001b[1;33m)\u001b[0m\u001b[1;33m\u001b[0m\u001b[1;33m\u001b[0m\u001b[0m\n\u001b[0;32m     13\u001b[0m \u001b[0mtable\u001b[0m\u001b[1;33m(\u001b[0m\u001b[0ma\u001b[0m\u001b[1;33m,\u001b[0m \u001b[0mb\u001b[0m\u001b[1;33m)\u001b[0m\u001b[1;33m\u001b[0m\u001b[1;33m\u001b[0m\u001b[0m\n",
      "\u001b[1;31mIndexError\u001b[0m: pop index out of range"
     ]
    }
   ],
   "source": [
    "#Python 100제 78번\n",
    "#원형 테이블\n",
    "a = int(input())\n",
    "b = int(input())\n",
    "def table(n, k):\n",
    "    i = 0\n",
    "    list_n = [i for i in range(1,n+1)] #n까지의 음식 리스트 저장\n",
    "    while len(list_n) > 2: #음식을 2개 남겨놔야 함.\n",
    "        if k > len(list_n): #k번째가 음식 갯수보다 클 경우 \n",
    "            k = k-len(list_n)\n",
    "        list_n.pop(k) #음식 리스트에서 k번째 pop\n",
    "    print(list_n)\n",
    "table(a, b)"
   ]
  },
  {
   "cell_type": "code",
   "execution_count": 35,
   "id": "b70b47f8",
   "metadata": {},
   "outputs": [
    {
     "name": "stdout",
     "output_type": "stream",
     "text": [
      "순회 횟수는 :2\n",
      "index : 6\n",
      "value : 39 34\n"
     ]
    }
   ],
   "source": [
    "#Python 100제 79번\n",
    "#순회하는 리스트\n",
    "l = [10, 20, 25, 27, 34, 35, 39] #기존 입력 값\n",
    "n = int(input('순회 횟수는 :'))\n",
    "\n",
    "def sol(a, t):\n",
    "    b = a.copy()\n",
    "    c = []\n",
    "    for i in range(t):\n",
    "        b.insert(0,b.pop()) #위치 0에 b.pop()한 값을 추가\n",
    "    for i,j in zip(a,b): #같은 길이의 리스트를 같은 인덱스끼리 잘라서 리스트로 반환\n",
    "        c.append(abs(i-j)) #두 수의 차이를 계산한 값을 리스트 c에 추가\n",
    "    index = c.index(min(c))\n",
    "    print(\"index :\",index)\n",
    "    print(\"value :\",a[index],b[index])\n",
    "\n",
    "sol(l, n)"
   ]
  },
  {
   "cell_type": "code",
   "execution_count": 40,
   "id": "d6d70f3d",
   "metadata": {},
   "outputs": [
    {
     "name": "stdout",
     "output_type": "stream",
     "text": [
      "ㄱ ㄴ ㄷ ㄹ\n",
      "3\n",
      "['ㄱㄴㄷ', 'ㄱㄴㄹ', 'ㄱㄷㄹ', 'ㄴㄷㄹ']\n"
     ]
    }
   ],
   "source": [
    "#Python 100제 80번\n",
    "#순열과 조합\n",
    "from itertools import combinations #파이썬 조합 라이브러리\n",
    "\n",
    "import itertools\n",
    "\n",
    "n = input().split() #조합할 리스트 입력받기\n",
    "int_n = int(input()) #조합이 몇개로 구성되어 있는지\n",
    "\n",
    "print(list(map(''.join, combinations(n, int_n))))"
   ]
  },
  {
   "cell_type": "code",
   "execution_count": null,
   "id": "db3c48dd",
   "metadata": {},
   "outputs": [],
   "source": []
  },
  {
   "cell_type": "code",
   "execution_count": null,
   "id": "6c1ac65a",
   "metadata": {},
   "outputs": [],
   "source": []
  }
 ],
 "metadata": {
  "kernelspec": {
   "display_name": "Python 3",
   "language": "python",
   "name": "python3"
  },
  "language_info": {
   "codemirror_mode": {
    "name": "ipython",
    "version": 3
   },
   "file_extension": ".py",
   "mimetype": "text/x-python",
   "name": "python",
   "nbconvert_exporter": "python",
   "pygments_lexer": "ipython3",
   "version": "3.8.8"
  }
 },
 "nbformat": 4,
 "nbformat_minor": 5
}
